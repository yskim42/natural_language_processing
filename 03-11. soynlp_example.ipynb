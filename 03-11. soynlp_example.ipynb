{
 "cells": [
  {
   "cell_type": "markdown",
   "metadata": {},
   "source": [
    "### Soynlp를 활용한 토큰화\n",
    "* 참조: https://datascienceschool.net/03%20machine%20learning/03.01.04%20soynlp.html"
   ]
  },
  {
   "cell_type": "code",
   "execution_count": 3,
   "metadata": {},
   "outputs": [
    {
     "name": "stdout",
     "output_type": "stream",
     "text": [
      "training was done. used memory 0.757 Gb\n",
      "CPU times: total: 21.1 s\n",
      "Wall time: 40.4 s\n"
     ]
    }
   ],
   "source": [
    "%%time\n",
    "from soynlp import DoublespaceLineCorpus\n",
    "from soynlp.word import WordExtractor\n",
    "\n",
    "# 문서 단위 말뭉치 생성 \n",
    "corpus = DoublespaceLineCorpus(\"2016-10-20.txt\")\n",
    "word_extractor = WordExtractor()\n",
    "word_extractor.train(corpus)"
   ]
  },
  {
   "cell_type": "code",
   "execution_count": 4,
   "metadata": {},
   "outputs": [
    {
     "name": "stdout",
     "output_type": "stream",
     "text": [
      "all cohesion probabilities was computed. # words = 223348\n",
      "all branching entropies was computed # words = 361598\n",
      "all accessor variety was computed # words = 361598\n"
     ]
    }
   ],
   "source": [
    "# 각 cohesion, branching entropy, accessor variety 등의 통계 수치를 계산\n",
    "word_score = word_extractor.extract()"
   ]
  },
  {
   "cell_type": "code",
   "execution_count": 5,
   "metadata": {},
   "outputs": [
    {
     "data": {
      "text/plain": [
       "[('안전', '성에'),\n",
       " ('문제', '있는'),\n",
       " ('스마트폰', '을'),\n",
       " ('휴대', '하고'),\n",
       " ('탑승', '할'),\n",
       " ('경우', '에'),\n",
       " ('압수', '한다')]"
      ]
     },
     "execution_count": 5,
     "metadata": {},
     "output_type": "execute_result"
    }
   ],
   "source": [
    "from soynlp.tokenizer import LTokenizer\n",
    "\n",
    "scores = {word:score.cohesion_forward for word, score in word_score.items()}\n",
    "l_tokenizer = LTokenizer(scores=scores)\n",
    "\n",
    "l_tokenizer.tokenize(\"안전성에 문제있는 스마트폰을 휴대하고 탑승할 경우에 압수한다\", flatten=False)"
   ]
  },
  {
   "cell_type": "code",
   "execution_count": null,
   "metadata": {},
   "outputs": [],
   "source": []
  }
 ],
 "metadata": {
  "kernelspec": {
   "display_name": "nlp_env",
   "language": "python",
   "name": "python3"
  },
  "language_info": {
   "codemirror_mode": {
    "name": "ipython",
    "version": 3
   },
   "file_extension": ".py",
   "mimetype": "text/x-python",
   "name": "python",
   "nbconvert_exporter": "python",
   "pygments_lexer": "ipython3",
   "version": "3.10.14"
  }
 },
 "nbformat": 4,
 "nbformat_minor": 2
}
