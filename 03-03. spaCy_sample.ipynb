{
 "cells": [
  {
   "cell_type": "markdown",
   "metadata": {},
   "source": [
    "### SpaCy NLP를 이용한 토큰화 및 NER"
   ]
  },
  {
   "cell_type": "code",
   "execution_count": 1,
   "metadata": {},
   "outputs": [],
   "source": [
    "import spacy"
   ]
  },
  {
   "cell_type": "markdown",
   "metadata": {},
   "source": [
    "1. 토큰화"
   ]
  },
  {
   "cell_type": "code",
   "execution_count": 5,
   "metadata": {},
   "outputs": [],
   "source": [
    "# 영어 모델 다운로드\n",
    "# 에러 발생시, English를 별도로 설치 `python -m spacy download en` 실행\n",
    "nlp = spacy.load('en_core_web_sm')  "
   ]
  },
  {
   "cell_type": "code",
   "execution_count": 9,
   "metadata": {},
   "outputs": [
    {
     "name": "stdout",
     "output_type": "stream",
     "text": [
      "[Yuh, -, jung, Youn, won, the, Oscar, for, best, supporting, actress, for, her, performance, in, \", Minari, \", on, Sunday, .]\n"
     ]
    }
   ],
   "source": [
    "text = 'Yuh-jung Youn won the Oscar for best supporting actress for her performance in \"Minari\" on Sunday.'\n",
    "doc = nlp(text)\n",
    "tokenized = list(doc)\n",
    "print(tokenized)"
   ]
  },
  {
   "cell_type": "markdown",
   "metadata": {},
   "source": [
    "2. NER"
   ]
  },
  {
   "cell_type": "code",
   "execution_count": 10,
   "metadata": {},
   "outputs": [
    {
     "name": "stdout",
     "output_type": "stream",
     "text": [
      "========================================\n",
      "Yuh-jung Youn PERSON\n",
      "Oscar PERSON\n",
      "Minari PERSON\n",
      "Sunday DATE\n"
     ]
    }
   ],
   "source": [
    "print(\"=\"*40)\n",
    "for ent in doc.ents:\n",
    "    print(ent.text, ent.label_)"
   ]
  },
  {
   "cell_type": "code",
   "execution_count": null,
   "metadata": {},
   "outputs": [],
   "source": []
  }
 ],
 "metadata": {
  "kernelspec": {
   "display_name": "nlp_env",
   "language": "python",
   "name": "python3"
  },
  "language_info": {
   "codemirror_mode": {
    "name": "ipython",
    "version": 3
   },
   "file_extension": ".py",
   "mimetype": "text/x-python",
   "name": "python",
   "nbconvert_exporter": "python",
   "pygments_lexer": "ipython3",
   "version": "3.10.14"
  }
 },
 "nbformat": 4,
 "nbformat_minor": 2
}
