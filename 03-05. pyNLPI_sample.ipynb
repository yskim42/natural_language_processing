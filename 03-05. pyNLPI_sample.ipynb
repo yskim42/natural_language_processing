{
 "cells": [
  {
   "cell_type": "markdown",
   "metadata": {},
   "source": [
    "### PyNLPI를 이용한 토큰 및 N-gram 추출"
   ]
  },
  {
   "cell_type": "code",
   "execution_count": 10,
   "metadata": {},
   "outputs": [],
   "source": [
    "from pynlpl import textprocessors"
   ]
  },
  {
   "cell_type": "code",
   "execution_count": 15,
   "metadata": {},
   "outputs": [
    {
     "name": "stdout",
     "output_type": "stream",
     "text": [
      "['PyNLPI', 'is', 'a', 'great', 'library', 'for', 'natural', 'language', 'processing', '.']\n",
      "========================================\n"
     ]
    }
   ],
   "source": [
    "text = \"PyNLPI is a great library for natural language processing.\"\n",
    "tokens = textprocessors.crude_tokenizer(text)\n",
    "print(tokens); print('='*40)"
   ]
  },
  {
   "cell_type": "code",
   "execution_count": 14,
   "metadata": {},
   "outputs": [
    {
     "name": "stdout",
     "output_type": "stream",
     "text": [
      "('<begin>', '<begin>', 'PyNLPI')\n",
      "('<begin>', 'PyNLPI', 'is')\n",
      "('PyNLPI', 'is', 'a')\n",
      "('is', 'a', 'great')\n",
      "('a', 'great', 'library')\n",
      "('great', 'library', 'for')\n",
      "('library', 'for', 'natural')\n",
      "('for', 'natural', 'language')\n",
      "('natural', 'language', 'processing')\n",
      "('language', 'processing', '.')\n",
      "('processing', '.', '<end>')\n",
      "('.', '<end>', '<end>')\n"
     ]
    }
   ],
   "source": [
    "# N-gram extraction\n",
    "for trigram in textprocessors.Windower(tokens,3):\n",
    "        print(trigram)"
   ]
  },
  {
   "cell_type": "code",
   "execution_count": null,
   "metadata": {},
   "outputs": [],
   "source": []
  }
 ],
 "metadata": {
  "kernelspec": {
   "display_name": "nlp_env",
   "language": "python",
   "name": "python3"
  },
  "language_info": {
   "codemirror_mode": {
    "name": "ipython",
    "version": 3
   },
   "file_extension": ".py",
   "mimetype": "text/x-python",
   "name": "python",
   "nbconvert_exporter": "python",
   "pygments_lexer": "ipython3",
   "version": "3.10.14"
  }
 },
 "nbformat": 4,
 "nbformat_minor": 2
}
