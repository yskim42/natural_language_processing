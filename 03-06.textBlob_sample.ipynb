{
 "cells": [
  {
   "cell_type": "markdown",
   "metadata": {},
   "source": [
    "### TexBlob을 이용한 문장 감정분석"
   ]
  },
  {
   "cell_type": "code",
   "execution_count": 20,
   "metadata": {},
   "outputs": [],
   "source": [
    "from textblob import TextBlob"
   ]
  },
  {
   "cell_type": "code",
   "execution_count": 24,
   "metadata": {},
   "outputs": [
    {
     "name": "stdout",
     "output_type": "stream",
     "text": [
      "감성도: 0.85\n",
      "주관성: 1.0\n"
     ]
    }
   ],
   "source": [
    "text = \"Python is one of so beautiful languages.\"\n",
    "\n",
    "blob = TextBlob(text)\n",
    "\n",
    "# == 문장 감정 분석 ==\n",
    "# polarity: -1 ~ +1. 1에 가까울수록 긍정, -1에 가까울수록 부정\n",
    "polarity = blob.sentiment.polarity\n",
    "print('감성도:', polarity)\n",
    "\n",
    "# subjectivity : 0 ~ +1. 1에 가까울수록 주관적임을 나타냄\n",
    "subjectivity = blob.sentiment.subjectivity\n",
    "print('주관성:', subjectivity)"
   ]
  },
  {
   "cell_type": "code",
   "execution_count": null,
   "metadata": {},
   "outputs": [],
   "source": []
  }
 ],
 "metadata": {
  "kernelspec": {
   "display_name": "nlp_env",
   "language": "python",
   "name": "python3"
  },
  "language_info": {
   "codemirror_mode": {
    "name": "ipython",
    "version": 3
   },
   "file_extension": ".py",
   "mimetype": "text/x-python",
   "name": "python",
   "nbconvert_exporter": "python",
   "pygments_lexer": "ipython3",
   "version": "3.10.14"
  }
 },
 "nbformat": 4,
 "nbformat_minor": 2
}
